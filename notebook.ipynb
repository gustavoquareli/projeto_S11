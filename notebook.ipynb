{
 "cells": [
  {
   "cell_type": "code",
   "execution_count": 42,
   "metadata": {},
   "outputs": [],
   "source": [
    "#abrindo as bibliotecas\n",
    "import pandas as pd\n",
    "import seaborn as sns\n",
    "from matplotlib import pyplot as plt\n",
    "import numpy as np\n",
    "import scipy.stats as st "
   ]
  },
  {
   "cell_type": "markdown",
   "metadata": {},
   "source": [
    "## <span style=\"color: red;\">Processamento dos dados:</span>"
   ]
  },
  {
   "cell_type": "code",
   "execution_count": 43,
   "metadata": {},
   "outputs": [],
   "source": [
    "#lendo o arquivo\n",
    "data = pd.read_csv(\"datasets/logs_exp_us.csv\", sep='\\t', dtype={'EventName':'category', 'ExpId':'category'})"
   ]
  },
  {
   "cell_type": "code",
   "execution_count": 44,
   "metadata": {},
   "outputs": [],
   "source": [
    "#gerando nomes snake_case para as colunas do df\n",
    "col = ['event', 'user', 'timestamp', 'group']\n",
    "data.columns = col"
   ]
  },
  {
   "cell_type": "code",
   "execution_count": 45,
   "metadata": {},
   "outputs": [],
   "source": [
    "#convertendo timestamp para o formato correto\n",
    "data['timestamp'] = pd.to_datetime(data['timestamp'], unit='s')\n",
    "data['date'] = data['timestamp'].dt.date\n",
    "data['date'] = pd.to_datetime(data['date'])"
   ]
  },
  {
   "cell_type": "code",
   "execution_count": 46,
   "metadata": {},
   "outputs": [
    {
     "data": {
      "text/plain": [
       "244126"
      ]
     },
     "execution_count": 46,
     "metadata": {},
     "output_type": "execute_result"
    }
   ],
   "source": [
    "df_size1=data.shape[0]\n",
    "df_size1"
   ]
  },
  {
   "cell_type": "code",
   "execution_count": 47,
   "metadata": {},
   "outputs": [
    {
     "data": {
      "text/html": [
       "<div>\n",
       "<style scoped>\n",
       "    .dataframe tbody tr th:only-of-type {\n",
       "        vertical-align: middle;\n",
       "    }\n",
       "\n",
       "    .dataframe tbody tr th {\n",
       "        vertical-align: top;\n",
       "    }\n",
       "\n",
       "    .dataframe thead th {\n",
       "        text-align: right;\n",
       "    }\n",
       "</style>\n",
       "<table border=\"1\" class=\"dataframe\">\n",
       "  <thead>\n",
       "    <tr style=\"text-align: right;\">\n",
       "      <th></th>\n",
       "      <th>event</th>\n",
       "      <th>user</th>\n",
       "      <th>timestamp</th>\n",
       "      <th>group</th>\n",
       "      <th>date</th>\n",
       "    </tr>\n",
       "  </thead>\n",
       "  <tbody>\n",
       "    <tr>\n",
       "      <th>0</th>\n",
       "      <td>MainScreenAppear</td>\n",
       "      <td>4575588528974610257</td>\n",
       "      <td>2019-07-25 04:43:36</td>\n",
       "      <td>246</td>\n",
       "      <td>2019-07-25</td>\n",
       "    </tr>\n",
       "    <tr>\n",
       "      <th>1</th>\n",
       "      <td>MainScreenAppear</td>\n",
       "      <td>7416695313311560658</td>\n",
       "      <td>2019-07-25 11:11:42</td>\n",
       "      <td>246</td>\n",
       "      <td>2019-07-25</td>\n",
       "    </tr>\n",
       "    <tr>\n",
       "      <th>2</th>\n",
       "      <td>PaymentScreenSuccessful</td>\n",
       "      <td>3518123091307005509</td>\n",
       "      <td>2019-07-25 11:28:47</td>\n",
       "      <td>248</td>\n",
       "      <td>2019-07-25</td>\n",
       "    </tr>\n",
       "    <tr>\n",
       "      <th>3</th>\n",
       "      <td>CartScreenAppear</td>\n",
       "      <td>3518123091307005509</td>\n",
       "      <td>2019-07-25 11:28:47</td>\n",
       "      <td>248</td>\n",
       "      <td>2019-07-25</td>\n",
       "    </tr>\n",
       "    <tr>\n",
       "      <th>4</th>\n",
       "      <td>PaymentScreenSuccessful</td>\n",
       "      <td>6217807653094995999</td>\n",
       "      <td>2019-07-25 11:48:42</td>\n",
       "      <td>248</td>\n",
       "      <td>2019-07-25</td>\n",
       "    </tr>\n",
       "    <tr>\n",
       "      <th>...</th>\n",
       "      <td>...</td>\n",
       "      <td>...</td>\n",
       "      <td>...</td>\n",
       "      <td>...</td>\n",
       "      <td>...</td>\n",
       "    </tr>\n",
       "    <tr>\n",
       "      <th>244121</th>\n",
       "      <td>MainScreenAppear</td>\n",
       "      <td>4599628364049201812</td>\n",
       "      <td>2019-08-07 21:12:25</td>\n",
       "      <td>247</td>\n",
       "      <td>2019-08-07</td>\n",
       "    </tr>\n",
       "    <tr>\n",
       "      <th>244122</th>\n",
       "      <td>MainScreenAppear</td>\n",
       "      <td>5849806612437486590</td>\n",
       "      <td>2019-08-07 21:13:59</td>\n",
       "      <td>246</td>\n",
       "      <td>2019-08-07</td>\n",
       "    </tr>\n",
       "    <tr>\n",
       "      <th>244123</th>\n",
       "      <td>MainScreenAppear</td>\n",
       "      <td>5746969938801999050</td>\n",
       "      <td>2019-08-07 21:14:43</td>\n",
       "      <td>246</td>\n",
       "      <td>2019-08-07</td>\n",
       "    </tr>\n",
       "    <tr>\n",
       "      <th>244124</th>\n",
       "      <td>MainScreenAppear</td>\n",
       "      <td>5746969938801999050</td>\n",
       "      <td>2019-08-07 21:14:58</td>\n",
       "      <td>246</td>\n",
       "      <td>2019-08-07</td>\n",
       "    </tr>\n",
       "    <tr>\n",
       "      <th>244125</th>\n",
       "      <td>OffersScreenAppear</td>\n",
       "      <td>5746969938801999050</td>\n",
       "      <td>2019-08-07 21:15:17</td>\n",
       "      <td>246</td>\n",
       "      <td>2019-08-07</td>\n",
       "    </tr>\n",
       "  </tbody>\n",
       "</table>\n",
       "<p>244126 rows × 5 columns</p>\n",
       "</div>"
      ],
      "text/plain": [
       "                          event                 user           timestamp  \\\n",
       "0              MainScreenAppear  4575588528974610257 2019-07-25 04:43:36   \n",
       "1              MainScreenAppear  7416695313311560658 2019-07-25 11:11:42   \n",
       "2       PaymentScreenSuccessful  3518123091307005509 2019-07-25 11:28:47   \n",
       "3              CartScreenAppear  3518123091307005509 2019-07-25 11:28:47   \n",
       "4       PaymentScreenSuccessful  6217807653094995999 2019-07-25 11:48:42   \n",
       "...                         ...                  ...                 ...   \n",
       "244121         MainScreenAppear  4599628364049201812 2019-08-07 21:12:25   \n",
       "244122         MainScreenAppear  5849806612437486590 2019-08-07 21:13:59   \n",
       "244123         MainScreenAppear  5746969938801999050 2019-08-07 21:14:43   \n",
       "244124         MainScreenAppear  5746969938801999050 2019-08-07 21:14:58   \n",
       "244125       OffersScreenAppear  5746969938801999050 2019-08-07 21:15:17   \n",
       "\n",
       "       group       date  \n",
       "0        246 2019-07-25  \n",
       "1        246 2019-07-25  \n",
       "2        248 2019-07-25  \n",
       "3        248 2019-07-25  \n",
       "4        248 2019-07-25  \n",
       "...      ...        ...  \n",
       "244121   247 2019-08-07  \n",
       "244122   246 2019-08-07  \n",
       "244123   246 2019-08-07  \n",
       "244124   246 2019-08-07  \n",
       "244125   246 2019-08-07  \n",
       "\n",
       "[244126 rows x 5 columns]"
      ]
     },
     "execution_count": 47,
     "metadata": {},
     "output_type": "execute_result"
    }
   ],
   "source": [
    "data"
   ]
  },
  {
   "cell_type": "code",
   "execution_count": 48,
   "metadata": {},
   "outputs": [
    {
     "name": "stdout",
     "output_type": "stream",
     "text": [
      "<class 'pandas.core.frame.DataFrame'>\n",
      "RangeIndex: 244126 entries, 0 to 244125\n",
      "Data columns (total 5 columns):\n",
      " #   Column     Non-Null Count   Dtype         \n",
      "---  ------     --------------   -----         \n",
      " 0   event      244126 non-null  category      \n",
      " 1   user       244126 non-null  int64         \n",
      " 2   timestamp  244126 non-null  datetime64[ns]\n",
      " 3   group      244126 non-null  category      \n",
      " 4   date       244126 non-null  datetime64[ns]\n",
      "dtypes: category(2), datetime64[ns](2), int64(1)\n",
      "memory usage: 6.1 MB\n"
     ]
    }
   ],
   "source": [
    "data.info()"
   ]
  },
  {
   "cell_type": "markdown",
   "metadata": {},
   "source": [
    "Não há valores nulos."
   ]
  },
  {
   "cell_type": "code",
   "execution_count": 49,
   "metadata": {},
   "outputs": [
    {
     "data": {
      "text/plain": [
       "413"
      ]
     },
     "execution_count": 49,
     "metadata": {},
     "output_type": "execute_result"
    }
   ],
   "source": [
    "data.duplicated().sum()"
   ]
  },
  {
   "cell_type": "code",
   "execution_count": 50,
   "metadata": {},
   "outputs": [],
   "source": [
    "data=data.drop_duplicates()"
   ]
  },
  {
   "cell_type": "code",
   "execution_count": 51,
   "metadata": {},
   "outputs": [
    {
     "data": {
      "text/plain": [
       "7551"
      ]
     },
     "execution_count": 51,
     "metadata": {},
     "output_type": "execute_result"
    }
   ],
   "source": [
    "n_user_total = pd.Series(data['user'].unique()).count()\n",
    "n_user_total"
   ]
  },
  {
   "cell_type": "markdown",
   "metadata": {},
   "source": [
    "## <span style=\"color: red;\">Análise exploratória de dados:</span>"
   ]
  },
  {
   "cell_type": "code",
   "execution_count": 52,
   "metadata": {},
   "outputs": [
    {
     "name": "stdout",
     "output_type": "stream",
     "text": [
      "A amostra contém 243713 eventos\n"
     ]
    }
   ],
   "source": [
    "#quantos eventos existem nos registros?\n",
    "n_events = data['event'].value_counts().sum()\n",
    "print(\"A amostra contém {} eventos\".format(n_events))"
   ]
  },
  {
   "cell_type": "code",
   "execution_count": 53,
   "metadata": {},
   "outputs": [
    {
     "name": "stdout",
     "output_type": "stream",
     "text": [
      "A amostra contém 7551 usuários\n"
     ]
    }
   ],
   "source": [
    "#quantos usuarios existem nos registros?\n",
    "n_users = data['user'].value_counts().count()\n",
    "print(\"A amostra contém {} usuários\".format(n_users))"
   ]
  },
  {
   "cell_type": "code",
   "execution_count": 54,
   "metadata": {},
   "outputs": [
    {
     "name": "stdout",
     "output_type": "stream",
     "text": [
      "Portanto o número médio de eventos por usuário é de 32.28\n"
     ]
    }
   ],
   "source": [
    "print(\"Portanto o número médio de eventos por usuário é de {:.2f}\".format(n_events/n_users))"
   ]
  },
  {
   "cell_type": "code",
   "execution_count": 55,
   "metadata": {},
   "outputs": [
    {
     "name": "stdout",
     "output_type": "stream",
     "text": [
      "Os dados variam desde 2019-07-25 04:43:36 até 2019-08-07 21:15:17\n"
     ]
    }
   ],
   "source": [
    "print(\"Os dados variam desde {} até {}\".format(data['timestamp'].min(),data['timestamp'].max()))"
   ]
  },
  {
   "cell_type": "code",
   "execution_count": 56,
   "metadata": {},
   "outputs": [],
   "source": [
    "plt.style.use('seaborn-v0_8-dark')"
   ]
  },
  {
   "cell_type": "code",
   "execution_count": 57,
   "metadata": {},
   "outputs": [
    {
     "data": {
      "image/png": "[encoded data removed]",
      "text/plain": [
       "<Figure size 1200x600 with 1 Axes>"
      ]
     },
     "metadata": {},
     "output_type": "display_data"
    }
   ],
   "source": [
    "#definindo o estilo do grafico\n",
    "plt.style.use('seaborn-v0_8-dark')\n",
    "\n",
    "#fig é a figura e ax são os eixos. Definindo tamanho do gráfico.\n",
    "fig,ax = plt.subplots(figsize=(12,6))\n",
    "\n",
    "#plotagem\n",
    "fig = data['timestamp'].hist(bins=1000, color='#003399')\n",
    "\n",
    "#rotacionando o eixo x\n",
    "ax.tick_params(axis='x', rotation=45)\n",
    "\n",
    "#adicionando titulo e rótulos\n",
    "ax.set_title('Qualidade dos dados')\n",
    "ax.set_xlabel(\"Data do dado coletado\")\n",
    "ax.set_ylabel(\"Quantidade de dados coletados\")\n",
    "\n",
    "#retirando o gride\n",
    "ax.grid(False)\n",
    "\n",
    "line_date = pd.Timestamp('2019-08-01')\n",
    "ax.axvline(x=line_date, color='red', linestyle='--', linewidth=2)\n",
    "\n",
    "ax.annotate(\n",
    "    '  Dados considerados', \n",
    "    xy=(line_date, 0.5),  # Coordenadas no gráfico onde a seta deve apontar\n",
    "    xytext=(line_date, 1000),  # Coordenadas no gráfico onde o texto da anotação deve aparecer\n",
    "    fontsize=12,\n",
    "    color='red'\n",
    ")\n",
    "\n",
    "#apresentando o gráfico\n",
    "plt.show()\n"
   ]
  },
  {
   "cell_type": "markdown",
   "metadata": {},
   "source": [
    "Os dados antes do dia primeiro de Agosto serão ignorados."
   ]
  },
  {
   "cell_type": "code",
   "execution_count": 58,
   "metadata": {},
   "outputs": [],
   "source": [
    "df = data[data['timestamp']>=line_date].reset_index(drop=True)\n",
    "df_size2 = df.shape[0]"
   ]
  },
  {
   "cell_type": "code",
   "execution_count": 59,
   "metadata": {},
   "outputs": [
    {
     "name": "stdout",
     "output_type": "stream",
     "text": [
      "group\n",
      "248    85582\n",
      "246    80181\n",
      "247    77950\n",
      "Name: count, dtype: int64\n"
     ]
    }
   ],
   "source": [
    "print(data['group'].value_counts())"
   ]
  },
  {
   "cell_type": "markdown",
   "metadata": {},
   "source": [
    "Portanto a representatividade dos grupos está garantida"
   ]
  },
  {
   "cell_type": "code",
   "execution_count": 60,
   "metadata": {},
   "outputs": [
    {
     "name": "stdout",
     "output_type": "stream",
     "text": [
      "Foram perdidas 3239 linhas na filtragem dos dados, o que não é representativo, \n",
      "já que se trata de apenas 1.33% dos dados\n"
     ]
    }
   ],
   "source": [
    "print(\"Foram perdidas {} linhas na filtragem dos dados, o que não é representativo, \\njá que se trata de apenas {:.2f}% dos dados\".format(df_size1-df_size2,(df_size1-df_size2)/df_size1*100))"
   ]
  },
  {
   "cell_type": "markdown",
   "metadata": {},
   "source": [
    "## <span style=\"color: red;\">Funil de vendas:</span>"
   ]
  },
  {
   "cell_type": "code",
   "execution_count": 61,
   "metadata": {},
   "outputs": [
    {
     "name": "stdout",
     "output_type": "stream",
     "text": [
      "<class 'pandas.core.frame.DataFrame'>\n",
      "RangeIndex: 240887 entries, 0 to 240886\n",
      "Data columns (total 5 columns):\n",
      " #   Column     Non-Null Count   Dtype         \n",
      "---  ------     --------------   -----         \n",
      " 0   event      240887 non-null  category      \n",
      " 1   user       240887 non-null  int64         \n",
      " 2   timestamp  240887 non-null  datetime64[ns]\n",
      " 3   group      240887 non-null  category      \n",
      " 4   date       240887 non-null  datetime64[ns]\n",
      "dtypes: category(2), datetime64[ns](2), int64(1)\n",
      "memory usage: 6.0 MB\n"
     ]
    }
   ],
   "source": [
    "df.info()"
   ]
  },
  {
   "cell_type": "markdown",
   "metadata": {},
   "source": [
    "Essa é a lista de eventos seguido de sua contagem de ocorrência em ordem descendente"
   ]
  },
  {
   "cell_type": "code",
   "execution_count": 62,
   "metadata": {},
   "outputs": [
    {
     "name": "stdout",
     "output_type": "stream",
     "text": [
      "event\n",
      "MainScreenAppear           117328\n",
      "OffersScreenAppear          46333\n",
      "CartScreenAppear            42303\n",
      "PaymentScreenSuccessful     33918\n",
      "Tutorial                     1005\n",
      "Name: count, dtype: int64\n"
     ]
    }
   ],
   "source": [
    "#contagem de eventos em ordem descendente\n",
    "n_events = df['event'].value_counts(ascending=False)\n",
    "print(n_events)"
   ]
  },
  {
   "cell_type": "markdown",
   "metadata": {},
   "source": [
    "A contagem de usuarios unicos que passaram por todos os eventos"
   ]
  },
  {
   "cell_type": "code",
   "execution_count": 63,
   "metadata": {},
   "outputs": [
    {
     "data": {
      "text/plain": [
       "466"
      ]
     },
     "execution_count": 63,
     "metadata": {},
     "output_type": "execute_result"
    }
   ],
   "source": [
    "#lista de todos os usuários\n",
    "user_list = pd.Series(df['user'].unique())\n",
    "\n",
    "#lista de usuários que participaram de todos os eventos que serão filtrados\n",
    "user_all_events = user_list\n",
    "\n",
    "#lista de eventos\n",
    "events = pd.Series(df['event'].unique())\n",
    "\n",
    "#criando um df com os usuarios unicos de cada evento\n",
    "event_list = pd.DataFrame()\n",
    "\n",
    "#df com o numero de usuarios unicos em cada evento\n",
    "funnel = pd.Series()\n",
    "\n",
    "#filtrando os dados\n",
    "for event in events:\n",
    "\n",
    "    #quem são os usuarios de cada evento?\n",
    "    filter = df[df['event'] == event]['user'].unique()\n",
    "\n",
    "    #filtrando os usuários que passaram por todos os eventos\n",
    "    user_all_events = user_all_events[user_all_events.isin(filter)]\n",
    "\n",
    "    #df apresentando qual usuario fez parte de qual evento\n",
    "    event_list[event] = pd.Series(filter)\n",
    "\n",
    "    #df com a quantidade de usuarios por evento\n",
    "    funnel[event] = pd.Series(filter).count()\n",
    "\n",
    "#contagem dos usuarios unicos que passaram por todos os eventos\n",
    "user_all_events.count()"
   ]
  },
  {
   "cell_type": "code",
   "execution_count": 64,
   "metadata": {},
   "outputs": [
    {
     "data": {
      "text/plain": [
       "MainScreenAppear           7419\n",
       "OffersScreenAppear         4593\n",
       "CartScreenAppear           3734\n",
       "PaymentScreenSuccessful    3539\n",
       "Tutorial                    840\n",
       "dtype: int64"
      ]
     },
     "execution_count": 64,
     "metadata": {},
     "output_type": "execute_result"
    }
   ],
   "source": [
    "funnel = funnel.sort_values(ascending=False)\n",
    "n_user_df = pd.Series(df['user'].unique()).count()\n",
    "\n",
    "funnel"
   ]
  },
  {
   "cell_type": "code",
   "execution_count": 65,
   "metadata": {},
   "outputs": [
    {
     "name": "stdout",
     "output_type": "stream",
     "text": [
      "O evento MainScreenAppear, têm uma proporção de usuários que executaram a ação pelo menos uma vez de 98.47%\n",
      "\n",
      "O evento OffersScreenAppear, têm uma proporção de usuários que executaram a ação pelo menos uma vez de 60.96%\n",
      "\n",
      "O evento CartScreenAppear, têm uma proporção de usuários que executaram a ação pelo menos uma vez de 49.56%\n",
      "\n",
      "O evento PaymentScreenSuccessful, têm uma proporção de usuários que executaram a ação pelo menos uma vez de 46.97%\n",
      "\n",
      "O evento Tutorial, têm uma proporção de usuários que executaram a ação pelo menos uma vez de 11.15%\n",
      "\n"
     ]
    }
   ],
   "source": [
    "for idx, value in funnel.items():\n",
    "    print('O evento {}, têm uma proporção de usuários que executaram a ação pelo menos uma vez de {:.2f}%\\n'.format(idx, value/n_user_df*100))"
   ]
  },
  {
   "cell_type": "markdown",
   "metadata": {},
   "source": [
    "Na tentativa de entender porque nao houve um evento que todos os usuarios participaram vamos filtrar os dados usando MainScreenAppear como referencia de que todos os usuarios teoricamente teriam que participar."
   ]
  },
  {
   "cell_type": "code",
   "execution_count": 66,
   "metadata": {},
   "outputs": [],
   "source": [
    "#criar uma lista de usuarios regulares,ou seja, todos os usuarios que participaram de MainScreenAppear\n",
    "regular_users = pd.Series(df[df['event']=='MainScreenAppear']['user'].unique())\n",
    "\n",
    "#lista de todos os usuarios\n",
    "all_users = pd.Series(df['user'].unique())\n",
    "\n",
    "#filtrar da lista de todos os usuarios a lista de usuarios regulares: lista de usuarios anômalos\n",
    "abnormal = all_users[~(all_users.isin(regular_users))].reset_index(drop=True)\n"
   ]
  },
  {
   "cell_type": "code",
   "execution_count": 67,
   "metadata": {},
   "outputs": [
    {
     "name": "stdout",
     "output_type": "stream",
     "text": [
      "A quantidade de usuarios que passaram por todos os eventos é de: 6.19%\n",
      "\n",
      "O evento MainScreenAppear, têm uma proporção de usuários que executaram a ação pelo menos uma vez de 100.00%\n",
      "\n",
      "O evento OffersScreenAppear, têm uma proporção de usuários que executaram a ação pelo menos uma vez de 60.41%\n",
      "\n",
      "O evento CartScreenAppear, têm uma proporção de usuários que executaram a ação pelo menos uma vez de 49.00%\n",
      "\n",
      "O evento PaymentScreenSuccessful, têm uma proporção de usuários que executaram a ação pelo menos uma vez de 46.38%\n",
      "\n",
      "O evento Tutorial, têm uma proporção de usuários que executaram a ação pelo menos uma vez de 11.27%\n",
      "\n"
     ]
    }
   ],
   "source": [
    "df_filtered = df[~(df['user'].isin(abnormal))]\n",
    "\n",
    "#lista de todos os usuários filtrados\n",
    "user_list_filtered = pd.Series(df_filtered['user'].unique())\n",
    "\n",
    "#lista de usuários que participaram de todos os eventos que serão filtrados\n",
    "user_all_events = user_list_filtered\n",
    "\n",
    "#lista de eventos filtrados\n",
    "events_filtered = pd.Series(df_filtered['event'].unique())\n",
    "\n",
    "#criando um df com os usuarios unicos de cada evento\n",
    "event_list = pd.DataFrame()\n",
    "\n",
    "#df com o numero de usuarios unicos em cada evento\n",
    "funnel = pd.Series()\n",
    "\n",
    "#filtrando os dados\n",
    "for event in events_filtered:\n",
    "\n",
    "    #usuários de cada evento\n",
    "    filter = df_filtered[df_filtered['event'] == event]['user'].unique()\n",
    "\n",
    "    #filtrando os usuários que passaram por todos os eventos\n",
    "    user_all_events = user_all_events[user_all_events.isin(filter)]\n",
    "\n",
    "    #df apresentando qual usuario fez parte de qual evento\n",
    "    event_list[event] = pd.Series(filter)\n",
    "\n",
    "    #df com a quantidade de usuarios por evento\n",
    "    funnel[event] = pd.Series(filter).count()\n",
    "\n",
    "#contagem dos usuarios unicos que passaram por todos os eventos filtrados\n",
    "print(\"A quantidade de usuarios que passaram por todos os eventos é de: {:.2f}%\\n\".format(user_all_events.count()/n_user_df*100))\n",
    "\n",
    "#ordenando os eventos do funil de vendas\n",
    "funnel = funnel.sort_values(ascending=False)\n",
    "\n",
    "#contando a quantidade de usuários exceto os eventos de tutorial\n",
    "n_user_df = pd.Series(df_filtered['user'].unique()).count()\n",
    "\n",
    "#testando se a hipótese do funil de vendas se concretizou\n",
    "for idx, value in funnel.items():\n",
    "    print('O evento {}, têm uma proporção de usuários que executaram a ação pelo menos uma vez de {:.2f}%\\n'.format(idx, value/n_user_df*100))"
   ]
  },
  {
   "cell_type": "markdown",
   "metadata": {},
   "source": [
    "Provavelmente os 1,5% de usuarios que foram filtrados entraram na rede antes da meia noite do dia 01 de agosto, que filtramos no inicio da analise. Como nao são uma parcela significativa iremos apenas ignorar os seus dados, sem aprofundar a analise.\n",
    "\n",
    "Como a proporção de usuarios que participaram de todos os eventos nao é igual ao evento Tutorial, podemos inferir que nem todos os eventos são sequenciais. Portanto testaremos a hipótese de que o evento Tutorial nao faz parte do funil de vendas.\n",
    "Portanto filtraremos o tutorial e criaremos um df para o funil de vendas. Se chamará Sales."
   ]
  },
  {
   "cell_type": "code",
   "execution_count": 68,
   "metadata": {},
   "outputs": [
    {
     "name": "stdout",
     "output_type": "stream",
     "text": [
      "A quantidade de usuarios que passaram por todos os eventos exceto o tutorial é de: 46.22%\n",
      "\n",
      "O evento MainScreenAppear, têm uma proporção de usuários que executaram a ação pelo menos uma vez de 100.00%\n",
      "\n",
      "O evento OffersScreenAppear, têm uma proporção de usuários que executaram a ação pelo menos uma vez de 60.41%\n",
      "\n",
      "O evento CartScreenAppear, têm uma proporção de usuários que executaram a ação pelo menos uma vez de 49.00%\n",
      "\n",
      "O evento PaymentScreenSuccessful, têm uma proporção de usuários que executaram a ação pelo menos uma vez de 46.38%\n",
      "\n"
     ]
    }
   ],
   "source": [
    "#filtrando os eventos Tutorial\n",
    "sales = df_filtered[~(df_filtered['event']=='Tutorial')]\n",
    "\n",
    "#lista de todos os usuários filtrados\n",
    "user_list_filtered = pd.Series(sales['user'].unique())\n",
    "\n",
    "#lista de usuários que participaram de todos os eventos que serão filtrados\n",
    "user_all_events = user_list_filtered\n",
    "\n",
    "#lista de eventos filtrados\n",
    "events_filtered = pd.Series(sales['event'].unique())\n",
    "\n",
    "#criando um df com os usuarios unicos de cada evento\n",
    "event_list = pd.DataFrame()\n",
    "\n",
    "#df com o numero de usuarios unicos em cada evento\n",
    "funnel = pd.Series()\n",
    "\n",
    "#filtrando os dados\n",
    "for event in events_filtered:\n",
    "\n",
    "    #usuários de cada evento\n",
    "    filter = sales[sales['event'] == event]['user'].unique()\n",
    "\n",
    "    #filtrando os usuários que passaram por todos os eventos\n",
    "    user_all_events = user_all_events[user_all_events.isin(filter)]\n",
    "\n",
    "    #df apresentando qual usuario fez parte de qual evento\n",
    "    event_list[event] = pd.Series(filter)\n",
    "\n",
    "    #df com a quantidade de usuarios por evento\n",
    "    funnel[event] = pd.Series(filter).count()\n",
    "\n",
    "#contagem dos usuarios unicos que passaram por todos os eventos filtrados\n",
    "print(\"A quantidade de usuarios que passaram por todos os eventos exceto o tutorial é de: {:.2f}%\\n\".format(user_all_events.count()/n_user_df*100))\n",
    "\n",
    "#ordenando os eventos do funil de vendas\n",
    "funnel = funnel.sort_values(ascending=False)\n",
    "\n",
    "#contando a quantidade de usuários exceto os eventos de tutorial\n",
    "n_user_df = pd.Series(sales['user'].unique()).count()\n",
    "\n",
    "#testando se a hipótese do funil de vendas se concretizou\n",
    "for idx, value in funnel.items():\n",
    "    print('O evento {}, têm uma proporção de usuários que executaram a ação pelo menos uma vez de {:.2f}%\\n'.format(idx, value/n_user_df*100))"
   ]
  },
  {
   "cell_type": "markdown",
   "metadata": {},
   "source": [
    "Reduzimos drasticamente a diferença entre:\n",
    "- usuarios que passaram por todos os eventos,\n",
    "- usuarios que passaram pelo ultimo evento.\n",
    "\n",
    "Como a diferença é pouca podemos tentar analisar caso a caso"
   ]
  },
  {
   "cell_type": "code",
   "execution_count": 69,
   "metadata": {},
   "outputs": [
    {
     "data": {
      "text/html": [
       "<div>\n",
       "<style scoped>\n",
       "    .dataframe tbody tr th:only-of-type {\n",
       "        vertical-align: middle;\n",
       "    }\n",
       "\n",
       "    .dataframe tbody tr th {\n",
       "        vertical-align: top;\n",
       "    }\n",
       "\n",
       "    .dataframe thead th {\n",
       "        text-align: right;\n",
       "    }\n",
       "</style>\n",
       "<table border=\"1\" class=\"dataframe\">\n",
       "  <thead>\n",
       "    <tr style=\"text-align: right;\">\n",
       "      <th></th>\n",
       "      <th>event</th>\n",
       "      <th>user</th>\n",
       "      <th>timestamp</th>\n",
       "      <th>group</th>\n",
       "      <th>date</th>\n",
       "    </tr>\n",
       "  </thead>\n",
       "  <tbody>\n",
       "    <tr>\n",
       "      <th>15597</th>\n",
       "      <td>MainScreenAppear</td>\n",
       "      <td>3626993001520930273</td>\n",
       "      <td>2019-08-01 12:17:31</td>\n",
       "      <td>247</td>\n",
       "      <td>2019-08-01</td>\n",
       "    </tr>\n",
       "    <tr>\n",
       "      <th>15598</th>\n",
       "      <td>PaymentScreenSuccessful</td>\n",
       "      <td>3626993001520930273</td>\n",
       "      <td>2019-08-01 12:17:33</td>\n",
       "      <td>247</td>\n",
       "      <td>2019-08-01</td>\n",
       "    </tr>\n",
       "    <tr>\n",
       "      <th>15600</th>\n",
       "      <td>OffersScreenAppear</td>\n",
       "      <td>3626993001520930273</td>\n",
       "      <td>2019-08-01 12:17:38</td>\n",
       "      <td>247</td>\n",
       "      <td>2019-08-01</td>\n",
       "    </tr>\n",
       "    <tr>\n",
       "      <th>15608</th>\n",
       "      <td>OffersScreenAppear</td>\n",
       "      <td>3626993001520930273</td>\n",
       "      <td>2019-08-01 12:17:52</td>\n",
       "      <td>247</td>\n",
       "      <td>2019-08-01</td>\n",
       "    </tr>\n",
       "    <tr>\n",
       "      <th>15612</th>\n",
       "      <td>OffersScreenAppear</td>\n",
       "      <td>3626993001520930273</td>\n",
       "      <td>2019-08-01 12:17:56</td>\n",
       "      <td>247</td>\n",
       "      <td>2019-08-01</td>\n",
       "    </tr>\n",
       "    <tr>\n",
       "      <th>16361</th>\n",
       "      <td>OffersScreenAppear</td>\n",
       "      <td>3626993001520930273</td>\n",
       "      <td>2019-08-01 12:32:40</td>\n",
       "      <td>247</td>\n",
       "      <td>2019-08-01</td>\n",
       "    </tr>\n",
       "    <tr>\n",
       "      <th>153331</th>\n",
       "      <td>MainScreenAppear</td>\n",
       "      <td>3626993001520930273</td>\n",
       "      <td>2019-08-05 12:13:36</td>\n",
       "      <td>247</td>\n",
       "      <td>2019-08-05</td>\n",
       "    </tr>\n",
       "    <tr>\n",
       "      <th>153337</th>\n",
       "      <td>MainScreenAppear</td>\n",
       "      <td>3626993001520930273</td>\n",
       "      <td>2019-08-05 12:13:46</td>\n",
       "      <td>247</td>\n",
       "      <td>2019-08-05</td>\n",
       "    </tr>\n",
       "    <tr>\n",
       "      <th>153341</th>\n",
       "      <td>OffersScreenAppear</td>\n",
       "      <td>3626993001520930273</td>\n",
       "      <td>2019-08-05 12:13:52</td>\n",
       "      <td>247</td>\n",
       "      <td>2019-08-05</td>\n",
       "    </tr>\n",
       "    <tr>\n",
       "      <th>153364</th>\n",
       "      <td>OffersScreenAppear</td>\n",
       "      <td>3626993001520930273</td>\n",
       "      <td>2019-08-05 12:14:40</td>\n",
       "      <td>247</td>\n",
       "      <td>2019-08-05</td>\n",
       "    </tr>\n",
       "    <tr>\n",
       "      <th>154631</th>\n",
       "      <td>MainScreenAppear</td>\n",
       "      <td>3626993001520930273</td>\n",
       "      <td>2019-08-05 12:53:53</td>\n",
       "      <td>247</td>\n",
       "      <td>2019-08-05</td>\n",
       "    </tr>\n",
       "    <tr>\n",
       "      <th>179179</th>\n",
       "      <td>MainScreenAppear</td>\n",
       "      <td>3626993001520930273</td>\n",
       "      <td>2019-08-06 06:25:22</td>\n",
       "      <td>247</td>\n",
       "      <td>2019-08-06</td>\n",
       "    </tr>\n",
       "    <tr>\n",
       "      <th>179996</th>\n",
       "      <td>MainScreenAppear</td>\n",
       "      <td>3626993001520930273</td>\n",
       "      <td>2019-08-06 06:57:41</td>\n",
       "      <td>247</td>\n",
       "      <td>2019-08-06</td>\n",
       "    </tr>\n",
       "    <tr>\n",
       "      <th>180010</th>\n",
       "      <td>MainScreenAppear</td>\n",
       "      <td>3626993001520930273</td>\n",
       "      <td>2019-08-06 06:58:06</td>\n",
       "      <td>247</td>\n",
       "      <td>2019-08-06</td>\n",
       "    </tr>\n",
       "    <tr>\n",
       "      <th>180024</th>\n",
       "      <td>MainScreenAppear</td>\n",
       "      <td>3626993001520930273</td>\n",
       "      <td>2019-08-06 06:58:36</td>\n",
       "      <td>247</td>\n",
       "      <td>2019-08-06</td>\n",
       "    </tr>\n",
       "    <tr>\n",
       "      <th>180067</th>\n",
       "      <td>MainScreenAppear</td>\n",
       "      <td>3626993001520930273</td>\n",
       "      <td>2019-08-06 06:59:39</td>\n",
       "      <td>247</td>\n",
       "      <td>2019-08-06</td>\n",
       "    </tr>\n",
       "    <tr>\n",
       "      <th>221038</th>\n",
       "      <td>MainScreenAppear</td>\n",
       "      <td>3626993001520930273</td>\n",
       "      <td>2019-08-07 10:44:32</td>\n",
       "      <td>247</td>\n",
       "      <td>2019-08-07</td>\n",
       "    </tr>\n",
       "    <tr>\n",
       "      <th>221057</th>\n",
       "      <td>MainScreenAppear</td>\n",
       "      <td>3626993001520930273</td>\n",
       "      <td>2019-08-07 10:45:22</td>\n",
       "      <td>247</td>\n",
       "      <td>2019-08-07</td>\n",
       "    </tr>\n",
       "    <tr>\n",
       "      <th>221062</th>\n",
       "      <td>OffersScreenAppear</td>\n",
       "      <td>3626993001520930273</td>\n",
       "      <td>2019-08-07 10:45:30</td>\n",
       "      <td>247</td>\n",
       "      <td>2019-08-07</td>\n",
       "    </tr>\n",
       "    <tr>\n",
       "      <th>221301</th>\n",
       "      <td>MainScreenAppear</td>\n",
       "      <td>3626993001520930273</td>\n",
       "      <td>2019-08-07 10:55:27</td>\n",
       "      <td>247</td>\n",
       "      <td>2019-08-07</td>\n",
       "    </tr>\n",
       "    <tr>\n",
       "      <th>221343</th>\n",
       "      <td>MainScreenAppear</td>\n",
       "      <td>3626993001520930273</td>\n",
       "      <td>2019-08-07 10:56:39</td>\n",
       "      <td>247</td>\n",
       "      <td>2019-08-07</td>\n",
       "    </tr>\n",
       "    <tr>\n",
       "      <th>221356</th>\n",
       "      <td>MainScreenAppear</td>\n",
       "      <td>3626993001520930273</td>\n",
       "      <td>2019-08-07 10:56:57</td>\n",
       "      <td>247</td>\n",
       "      <td>2019-08-07</td>\n",
       "    </tr>\n",
       "  </tbody>\n",
       "</table>\n",
       "</div>"
      ],
      "text/plain": [
       "                          event                 user           timestamp  \\\n",
       "15597          MainScreenAppear  3626993001520930273 2019-08-01 12:17:31   \n",
       "15598   PaymentScreenSuccessful  3626993001520930273 2019-08-01 12:17:33   \n",
       "15600        OffersScreenAppear  3626993001520930273 2019-08-01 12:17:38   \n",
       "15608        OffersScreenAppear  3626993001520930273 2019-08-01 12:17:52   \n",
       "15612        OffersScreenAppear  3626993001520930273 2019-08-01 12:17:56   \n",
       "16361        OffersScreenAppear  3626993001520930273 2019-08-01 12:32:40   \n",
       "153331         MainScreenAppear  3626993001520930273 2019-08-05 12:13:36   \n",
       "153337         MainScreenAppear  3626993001520930273 2019-08-05 12:13:46   \n",
       "153341       OffersScreenAppear  3626993001520930273 2019-08-05 12:13:52   \n",
       "153364       OffersScreenAppear  3626993001520930273 2019-08-05 12:14:40   \n",
       "154631         MainScreenAppear  3626993001520930273 2019-08-05 12:53:53   \n",
       "179179         MainScreenAppear  3626993001520930273 2019-08-06 06:25:22   \n",
       "179996         MainScreenAppear  3626993001520930273 2019-08-06 06:57:41   \n",
       "180010         MainScreenAppear  3626993001520930273 2019-08-06 06:58:06   \n",
       "180024         MainScreenAppear  3626993001520930273 2019-08-06 06:58:36   \n",
       "180067         MainScreenAppear  3626993001520930273 2019-08-06 06:59:39   \n",
       "221038         MainScreenAppear  3626993001520930273 2019-08-07 10:44:32   \n",
       "221057         MainScreenAppear  3626993001520930273 2019-08-07 10:45:22   \n",
       "221062       OffersScreenAppear  3626993001520930273 2019-08-07 10:45:30   \n",
       "221301         MainScreenAppear  3626993001520930273 2019-08-07 10:55:27   \n",
       "221343         MainScreenAppear  3626993001520930273 2019-08-07 10:56:39   \n",
       "221356         MainScreenAppear  3626993001520930273 2019-08-07 10:56:57   \n",
       "\n",
       "       group       date  \n",
       "15597    247 2019-08-01  \n",
       "15598    247 2019-08-01  \n",
       "15600    247 2019-08-01  \n",
       "15608    247 2019-08-01  \n",
       "15612    247 2019-08-01  \n",
       "16361    247 2019-08-01  \n",
       "153331   247 2019-08-05  \n",
       "153337   247 2019-08-05  \n",
       "153341   247 2019-08-05  \n",
       "153364   247 2019-08-05  \n",
       "154631   247 2019-08-05  \n",
       "179179   247 2019-08-06  \n",
       "179996   247 2019-08-06  \n",
       "180010   247 2019-08-06  \n",
       "180024   247 2019-08-06  \n",
       "180067   247 2019-08-06  \n",
       "221038   247 2019-08-07  \n",
       "221057   247 2019-08-07  \n",
       "221062   247 2019-08-07  \n",
       "221301   247 2019-08-07  \n",
       "221343   247 2019-08-07  \n",
       "221356   247 2019-08-07  "
      ]
     },
     "execution_count": 69,
     "metadata": {},
     "output_type": "execute_result"
    }
   ],
   "source": [
    "#lista dos usuarios que aparecem como que executaram 'PaymentScreenSuccesful' mas nao fizeram todos os eventos \n",
    "last_abnormal = event_list[~(event_list['PaymentScreenSuccessful'].isin(user_all_events))]['PaymentScreenSuccessful'].dropna().reset_index(drop=True)\n",
    "\n",
    "#df com todos os eventos desses usuarios\n",
    "df_last_abnormal = sales[sales['user'].isin(last_abnormal)]\n",
    "\n",
    "#observando o comportamento de cada usuario um por um\n",
    "df_last_abnormal[df_last_abnormal['user']==last_abnormal[4]]"
   ]
  },
  {
   "cell_type": "code",
   "execution_count": 70,
   "metadata": {},
   "outputs": [
    {
     "data": {
      "text/plain": [
       "0     1.807104e+18\n",
       "1     2.842451e+18\n",
       "2     8.610309e+18\n",
       "3     2.546486e+18\n",
       "4     3.626993e+18\n",
       "5     1.568403e+18\n",
       "6     4.880889e+18\n",
       "7     5.624422e+18\n",
       "8     4.518330e+18\n",
       "9     1.872851e+18\n",
       "10    6.515930e+18\n",
       "11    2.172088e+17\n",
       "Name: PaymentScreenSuccessful, dtype: float64"
      ]
     },
     "execution_count": 70,
     "metadata": {},
     "output_type": "execute_result"
    }
   ],
   "source": [
    "last_abnormal"
   ]
  },
  {
   "cell_type": "markdown",
   "metadata": {},
   "source": [
    "Observando o comportamento caso a caso não foi possível perceber um comportamento que justifique porque os usuarios pulam etapas do filtro, nao sao do mesmo grupo e também nao são do mesmo dia.\n",
    "\n",
    "Como não podemos entender coisas em comum com esses doze usuários vamos supor que seja um problema técnico e ignora-los tambem, já que nao tem representacao do total do df, por serem apenas cerca de 200 eventos de 12 usuarios diferentes num conjunto de 240.000 eventos"
   ]
  },
  {
   "cell_type": "code",
   "execution_count": 71,
   "metadata": {},
   "outputs": [],
   "source": [
    "sales = sales[~(sales['user'].isin(last_abnormal))]"
   ]
  },
  {
   "cell_type": "code",
   "execution_count": 72,
   "metadata": {},
   "outputs": [
    {
     "name": "stdout",
     "output_type": "stream",
     "text": [
      "group\n",
      "248    83186\n",
      "246    78131\n",
      "247    75756\n",
      "Name: count, dtype: int64\n"
     ]
    }
   ],
   "source": [
    "print(sales['group'].value_counts())"
   ]
  },
  {
   "cell_type": "markdown",
   "metadata": {},
   "source": [
    "conferimos acima se temos muitos usuarios de todos os grupos."
   ]
  },
  {
   "cell_type": "code",
   "execution_count": 73,
   "metadata": {},
   "outputs": [
    {
     "name": "stdout",
     "output_type": "stream",
     "text": [
      "<class 'pandas.core.frame.DataFrame'>\n",
      "Index: 237073 entries, 1 to 240886\n",
      "Data columns (total 5 columns):\n",
      " #   Column     Non-Null Count   Dtype         \n",
      "---  ------     --------------   -----         \n",
      " 0   event      237073 non-null  category      \n",
      " 1   user       237073 non-null  int64         \n",
      " 2   timestamp  237073 non-null  datetime64[ns]\n",
      " 3   group      237073 non-null  category      \n",
      " 4   date       237073 non-null  datetime64[ns]\n",
      "dtypes: category(2), datetime64[ns](2), int64(1)\n",
      "memory usage: 7.7 MB\n"
     ]
    }
   ],
   "source": [
    "sales.info()"
   ]
  },
  {
   "cell_type": "code",
   "execution_count": 74,
   "metadata": {},
   "outputs": [
    {
     "name": "stdout",
     "output_type": "stream",
     "text": [
      "A quantidade de usuarios que passaram por todos os eventos exceto o tutorial é de: 46.22%\n",
      "\n",
      "O evento MainScreenAppear, têm uma proporção de usuários que executaram a ação pelo menos uma vez de 100.00%\n",
      "\n",
      "O evento OffersScreenAppear, têm uma proporção de usuários que executaram a ação pelo menos uma vez de 60.44%\n",
      "\n",
      "O evento CartScreenAppear, têm uma proporção de usuários que executaram a ação pelo menos uma vez de 48.98%\n",
      "\n",
      "O evento PaymentScreenSuccessful, têm uma proporção de usuários que executaram a ação pelo menos uma vez de 46.29%\n",
      "\n"
     ]
    }
   ],
   "source": [
    "#lista de todos os usuários filtrados\n",
    "user_list_filtered = pd.Series(sales['user'].unique())\n",
    "\n",
    "#lista de usuários que participaram de todos os eventos que serão filtrados\n",
    "user_all_events = user_list_filtered\n",
    "\n",
    "#lista de eventos filtrados\n",
    "events_filtered = pd.Series(sales['event'].unique())\n",
    "\n",
    "#criando um df com os usuarios unicos de cada evento\n",
    "event_list = pd.DataFrame()\n",
    "\n",
    "#df com o numero de usuarios unicos em cada evento\n",
    "funnel = pd.Series()\n",
    "\n",
    "#filtrando os dados\n",
    "for event in events_filtered:\n",
    "\n",
    "    #usuários de cada evento\n",
    "    filter = sales[sales['event'] == event]['user'].unique()\n",
    "\n",
    "    #filtrando os usuários que passaram por todos os eventos\n",
    "    user_all_events = user_all_events[user_all_events.isin(filter)]\n",
    "\n",
    "    #df apresentando qual usuario fez parte de qual evento\n",
    "    event_list[event] = pd.Series(filter)\n",
    "\n",
    "    #df com a quantidade de usuarios por evento\n",
    "    funnel[event] = pd.Series(filter).count()\n",
    "\n",
    "#contagem dos usuarios unicos que passaram por todos os eventos filtrados\n",
    "print(\"A quantidade de usuarios que passaram por todos os eventos exceto o tutorial é de: {:.2f}%\\n\".format(user_all_events.count()/n_user_df*100))\n",
    "\n",
    "#ordenando os eventos do funil de vendas\n",
    "funnel = funnel.sort_values(ascending=False)\n",
    "\n",
    "#contando a quantidade de usuários exceto os eventos de tutorial\n",
    "n_user_df = pd.Series(sales['user'].unique()).count()\n",
    "\n",
    "#testando se a hipótese do funil de vendas se concretizou\n",
    "for idx, value in funnel.items():\n",
    "    print('O evento {}, têm uma proporção de usuários que executaram a ação pelo menos uma vez de {:.2f}%\\n'.format(idx, value/n_user_df*100))"
   ]
  },
  {
   "cell_type": "markdown",
   "metadata": {},
   "source": [
    "Ainda existem usuarios que conseguem chegar na tela de pagamento concluido sem passar por todas as etapas, mas eles são insignificantes dentro do df, entao iremos continuar.\n",
    "\n",
    "Falta apenas a analise da conversão relativa ao evento anterior.\n"
   ]
  },
  {
   "cell_type": "code",
   "execution_count": 75,
   "metadata": {},
   "outputs": [
    {
     "name": "stdout",
     "output_type": "stream",
     "text": [
      "O evento MainScreenAppear, têm uma taxa de conversão em relação ao evento anterior de 100.00%\n",
      "\n",
      "O evento OffersScreenAppear, têm uma taxa de conversão em relação ao evento anterior de 60.44%\n",
      "\n",
      "O evento CartScreenAppear, têm uma taxa de conversão em relação ao evento anterior de 81.04%\n",
      "\n",
      "O evento PaymentScreenSuccessful, têm uma taxa de conversão em relação ao evento anterior de 94.51%\n",
      "\n"
     ]
    }
   ],
   "source": [
    "#calculando a conversão relativa de cada evento em relacao ao anterior\n",
    "\n",
    "#o primeiro evento calcula a conversão com relacao a ele mesmo ou seja 100%.\n",
    "last_event_user = n_user_df\n",
    "\n",
    "#iterando sobre cada evento para calcular a conversão relativa\n",
    "for idx, value in funnel.items():\n",
    "    #printando a conversão\n",
    "    print('O evento {}, têm uma taxa de conversão em relação ao evento anterior de {:.2f}%\\n'.format(idx, value/last_event_user*100))\n",
    "    last_event_user = value"
   ]
  },
  {
   "cell_type": "markdown",
   "metadata": {},
   "source": [
    "Perdemos mais usuarios na conversão de MainScreenAppear para OffersScreenAppear. Talvez estejamos tendo uma dificuldade em apresentar aos usuários as ofertas."
   ]
  },
  {
   "cell_type": "markdown",
   "metadata": {},
   "source": [
    "## <span style=\"color: red;\">Resultados:</span>"
   ]
  },
  {
   "cell_type": "code",
   "execution_count": 76,
   "metadata": {},
   "outputs": [
    {
     "name": "stdout",
     "output_type": "stream",
     "text": [
      "group\n",
      "246    2446\n",
      "247    2473\n",
      "248    2488\n",
      "Name: user, dtype: int64\n"
     ]
    }
   ],
   "source": [
    "print(sales.groupby(by='group', observed=True)['user'].nunique())"
   ]
  },
  {
   "cell_type": "markdown",
   "metadata": {},
   "source": [
    "Acima esta contado a listado a quantidade de usuarios unicos para cada grupo analisado.\n",
    "Podemos prosseguir com o experimento já que temos quantidades proximas de usuarios\n",
    "\n",
    "Agora será analisado a diferença entre os grupos.\n",
    "\n",
    "A hipótese nula é sempre que os grupos são iguais.\n",
    "Caso a hipotese nula nao se confirme a hipotese alternativa se torna verdadeira. Os grupos são diferentes."
   ]
  },
  {
   "cell_type": "code",
   "execution_count": 77,
   "metadata": {},
   "outputs": [],
   "source": [
    "#função de comparacao de conversao, relativo a evento e grupo\n",
    "def t_test(df, group1, group2, event):\n",
    "\n",
    "    #criando a tabela de todos os usuarios e seus grupos\n",
    "    conversions = df[['user', 'group']].drop_duplicates()\n",
    "\n",
    "    #criando o vetor que será comparado, dos convertidos\n",
    "    #caso o usuario tenha participado do evento ele tera valor 1\n",
    "    converted = pd.DataFrame(data={'user':df[df['event']==event]['user'].unique(), 'converted':1})\n",
    "\n",
    "    #caso nao tenha participado do evento ele tera valor 0\n",
    "    conversions = conversions.merge(converted, on='user', how='left')\n",
    "    conversions['converted'] = conversions['converted'].fillna(0)\n",
    "\n",
    "    #fazendo as comparações\n",
    "    statistic, pvalue = st.ttest_ind(\n",
    "        conversions[conversions['group'] == group1][\"converted\"],\n",
    "        conversions[conversions['group'] == group2][\"converted\"]\n",
    "    )\n",
    "\n",
    "    return statistic, pvalue\n"
   ]
  },
  {
   "cell_type": "code",
   "execution_count": 78,
   "metadata": {},
   "outputs": [
    {
     "data": {
      "text/plain": [
       "(-0.17548932079554133, 0.8607023262587784)"
      ]
     },
     "execution_count": 78,
     "metadata": {},
     "output_type": "execute_result"
    }
   ],
   "source": [
    "t_test(sales,'247','248', 'PaymentScreenSuccessful')"
   ]
  },
  {
   "cell_type": "code",
   "execution_count": 79,
   "metadata": {},
   "outputs": [],
   "source": [
    "#função para avaliar cada um dos eventos do df\n",
    "def events_ttest(df, group1, group2):\n",
    "    events = pd.Series(sales['event'].unique())\n",
    "    \n",
    "    for event in events:\n",
    "        if event=='MainScreenAppear':\n",
    "            print(\"Para o evento MainScreenAppear não foi encontrado variação, as populações são exatamente iguais\\n\")\n",
    "        else:\n",
    "            statistic, pvalue = t_test(df, group1, group2, event)\n",
    "            print('Para o evento {} encontamos uma variação entre o grupo {} e o grupo {} de {:.2f}%\\n'.format(event, group1, group2, statistic))\n",
    "            print('O valor P é de {:.2f}, portanto\\n'.format(pvalue))\n",
    "\n",
    "            if pvalue < 0.05:\n",
    "                print('Hipótese nula rejeitada. Os grupos são significativamente diferentes\\n\\n')\n",
    "            else:\n",
    "                print('Hipótese nula confirmada. Os grupos são significativamente iguais\\n\\n')\n",
    "\n",
    "\n"
   ]
  },
  {
   "cell_type": "code",
   "execution_count": 80,
   "metadata": {},
   "outputs": [
    {
     "name": "stdout",
     "output_type": "stream",
     "text": [
      "Para o evento MainScreenAppear não foi encontrado variação, as populações são exatamente iguais\n",
      "\n",
      "Para o evento OffersScreenAppear encontamos uma variação entre o grupo 246 e o grupo 247 de 1.18%\n",
      "\n",
      "O valor P é de 0.24, portanto\n",
      "\n",
      "Os grupos são significativamente iguais\n",
      "\n",
      "\n",
      "Para o evento CartScreenAppear encontamos uma variação entre o grupo 246 e o grupo 247 de 1.21%\n",
      "\n",
      "O valor P é de 0.23, portanto\n",
      "\n",
      "Os grupos são significativamente iguais\n",
      "\n",
      "\n",
      "Para o evento PaymentScreenSuccessful encontamos uma variação entre o grupo 246 e o grupo 247 de 1.53%\n",
      "\n",
      "O valor P é de 0.13, portanto\n",
      "\n",
      "Os grupos são significativamente iguais\n",
      "\n",
      "\n"
     ]
    }
   ],
   "source": [
    "events_ttest(sales,'246','247')"
   ]
  },
  {
   "cell_type": "code",
   "execution_count": 81,
   "metadata": {},
   "outputs": [
    {
     "name": "stdout",
     "output_type": "stream",
     "text": [
      "Para o evento MainScreenAppear não foi encontrado variação, as populações são exatamente iguais\n",
      "\n",
      "Para o evento OffersScreenAppear encontamos uma variação entre o grupo 246 e o grupo 248 de 1.33%\n",
      "\n",
      "O valor P é de 0.18, portanto\n",
      "\n",
      "Os grupos são significativamente iguais\n",
      "\n",
      "\n",
      "Para o evento CartScreenAppear encontamos uma variação entre o grupo 246 e o grupo 248 de 1.87%\n",
      "\n",
      "O valor P é de 0.06, portanto\n",
      "\n",
      "Os grupos são significativamente iguais\n",
      "\n",
      "\n",
      "Para o evento PaymentScreenSuccessful encontamos uma variação entre o grupo 246 e o grupo 248 de 1.36%\n",
      "\n",
      "O valor P é de 0.17, portanto\n",
      "\n",
      "Os grupos são significativamente iguais\n",
      "\n",
      "\n"
     ]
    }
   ],
   "source": [
    "events_ttest(sales,'246','248')"
   ]
  },
  {
   "cell_type": "code",
   "execution_count": 82,
   "metadata": {},
   "outputs": [
    {
     "name": "stdout",
     "output_type": "stream",
     "text": [
      "Para o evento MainScreenAppear não foi encontrado variação, as populações são exatamente iguais\n",
      "\n",
      "Para o evento OffersScreenAppear encontamos uma variação entre o grupo 247 e o grupo 248 de 0.14%\n",
      "\n",
      "O valor P é de 0.89, portanto\n",
      "\n",
      "Os grupos são significativamente iguais\n",
      "\n",
      "\n",
      "Para o evento CartScreenAppear encontamos uma variação entre o grupo 247 e o grupo 248 de 0.66%\n",
      "\n",
      "O valor P é de 0.51, portanto\n",
      "\n",
      "Os grupos são significativamente iguais\n",
      "\n",
      "\n",
      "Para o evento PaymentScreenSuccessful encontamos uma variação entre o grupo 247 e o grupo 248 de -0.18%\n",
      "\n",
      "O valor P é de 0.86, portanto\n",
      "\n",
      "Os grupos são significativamente iguais\n",
      "\n",
      "\n"
     ]
    }
   ],
   "source": [
    "events_ttest(sales,'247','248')"
   ]
  },
  {
   "cell_type": "markdown",
   "metadata": {},
   "source": [
    "O nível de significancia estatística[alpha] usado foi de 0.05."
   ]
  }
 ],
 "metadata": {
  "kernelspec": {
   "display_name": "projeto",
   "language": "python",
   "name": "python3"
  },
  "language_info": {
   "codemirror_mode": {
    "name": "ipython",
    "version": 3
   },
   "file_extension": ".py",
   "mimetype": "text/x-python",
   "name": "python",
   "nbconvert_exporter": "python",
   "pygments_lexer": "ipython3",
   "version": "3.12.3"
  }
 },
 "nbformat": 4,
 "nbformat_minor": 2
}
